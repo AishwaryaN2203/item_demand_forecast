{
 "cells": [
  {
   "cell_type": "code",
   "execution_count": 19,
   "metadata": {},
   "outputs": [
    {
     "name": "stdout",
     "output_type": "stream",
     "text": [
      "Defaulting to user installation because normal site-packages is not writeable\n",
      "Requirement already satisfied: upgini in /Users/aishwaryanagaraj/Library/Python/3.9/lib/python/site-packages (1.1.35)\n",
      "Requirement already satisfied: numpy>=1.19.0 in /Users/aishwaryanagaraj/Library/Python/3.9/lib/python/site-packages (from upgini) (1.23.4)\n",
      "Requirement already satisfied: catboost>=1.0.3 in /Users/aishwaryanagaraj/Library/Python/3.9/lib/python/site-packages (from upgini) (1.1)\n",
      "Requirement already satisfied: scikit-learn>=1.0.1 in /Users/aishwaryanagaraj/Library/Python/3.9/lib/python/site-packages (from upgini) (1.1.2)\n",
      "Requirement already satisfied: python-dateutil>=2.8.0 in /Users/aishwaryanagaraj/Library/Python/3.9/lib/python/site-packages (from upgini) (2.8.2)\n",
      "Requirement already satisfied: pandas>=1.1.0 in /Users/aishwaryanagaraj/Library/Python/3.9/lib/python/site-packages (from upgini) (1.5.0)\n",
      "Requirement already satisfied: python-json-logger>=2.0.2 in /Users/aishwaryanagaraj/Library/Python/3.9/lib/python/site-packages (from upgini) (2.0.4)\n",
      "Requirement already satisfied: requests>=2.8.0 in /Users/aishwaryanagaraj/Library/Python/3.9/lib/python/site-packages (from upgini) (2.28.1)\n",
      "Requirement already satisfied: fastparquet>=0.7.1 in /Users/aishwaryanagaraj/Library/Python/3.9/lib/python/site-packages (from upgini) (0.8.3)\n",
      "Requirement already satisfied: pydantic>=1.8.2 in /Users/aishwaryanagaraj/Library/Python/3.9/lib/python/site-packages (from upgini) (1.10.2)\n",
      "Requirement already satisfied: scipy in /Users/aishwaryanagaraj/Library/Python/3.9/lib/python/site-packages (from catboost>=1.0.3->upgini) (1.9.2)\n",
      "Requirement already satisfied: graphviz in /Users/aishwaryanagaraj/Library/Python/3.9/lib/python/site-packages (from catboost>=1.0.3->upgini) (0.20.1)\n",
      "Requirement already satisfied: six in /Library/Developer/CommandLineTools/Library/Frameworks/Python3.framework/Versions/3.9/lib/python3.9/site-packages (from catboost>=1.0.3->upgini) (1.15.0)\n",
      "Requirement already satisfied: plotly in /Users/aishwaryanagaraj/Library/Python/3.9/lib/python/site-packages (from catboost>=1.0.3->upgini) (5.10.0)\n",
      "Requirement already satisfied: matplotlib in /Users/aishwaryanagaraj/Library/Python/3.9/lib/python/site-packages (from catboost>=1.0.3->upgini) (3.6.1)\n",
      "Requirement already satisfied: cramjam>=2.3.0 in /Users/aishwaryanagaraj/Library/Python/3.9/lib/python/site-packages (from fastparquet>=0.7.1->upgini) (2.5.0)\n",
      "Requirement already satisfied: packaging in /Users/aishwaryanagaraj/Library/Python/3.9/lib/python/site-packages (from fastparquet>=0.7.1->upgini) (21.3)\n",
      "Requirement already satisfied: fsspec in /Users/aishwaryanagaraj/Library/Python/3.9/lib/python/site-packages (from fastparquet>=0.7.1->upgini) (2022.8.2)\n",
      "Requirement already satisfied: pytz>=2020.1 in /Users/aishwaryanagaraj/Library/Python/3.9/lib/python/site-packages (from pandas>=1.1.0->upgini) (2022.4)\n",
      "Requirement already satisfied: typing-extensions>=4.1.0 in /Users/aishwaryanagaraj/Library/Python/3.9/lib/python/site-packages (from pydantic>=1.8.2->upgini) (4.4.0)\n",
      "Requirement already satisfied: idna<4,>=2.5 in /Users/aishwaryanagaraj/Library/Python/3.9/lib/python/site-packages (from requests>=2.8.0->upgini) (3.4)\n",
      "Requirement already satisfied: charset-normalizer<3,>=2 in /Users/aishwaryanagaraj/Library/Python/3.9/lib/python/site-packages (from requests>=2.8.0->upgini) (2.1.1)\n",
      "Requirement already satisfied: certifi>=2017.4.17 in /Users/aishwaryanagaraj/Library/Python/3.9/lib/python/site-packages (from requests>=2.8.0->upgini) (2022.9.24)\n",
      "Requirement already satisfied: urllib3<1.27,>=1.21.1 in /Users/aishwaryanagaraj/Library/Python/3.9/lib/python/site-packages (from requests>=2.8.0->upgini) (1.26.12)\n",
      "Requirement already satisfied: threadpoolctl>=2.0.0 in /Users/aishwaryanagaraj/Library/Python/3.9/lib/python/site-packages (from scikit-learn>=1.0.1->upgini) (3.1.0)\n",
      "Requirement already satisfied: joblib>=1.0.0 in /Users/aishwaryanagaraj/Library/Python/3.9/lib/python/site-packages (from scikit-learn>=1.0.1->upgini) (1.2.0)\n",
      "Requirement already satisfied: kiwisolver>=1.0.1 in /Users/aishwaryanagaraj/Library/Python/3.9/lib/python/site-packages (from matplotlib->catboost>=1.0.3->upgini) (1.4.4)\n",
      "Requirement already satisfied: cycler>=0.10 in /Users/aishwaryanagaraj/Library/Python/3.9/lib/python/site-packages (from matplotlib->catboost>=1.0.3->upgini) (0.11.0)\n",
      "Requirement already satisfied: pyparsing>=2.2.1 in /Users/aishwaryanagaraj/Library/Python/3.9/lib/python/site-packages (from matplotlib->catboost>=1.0.3->upgini) (3.0.9)\n",
      "Requirement already satisfied: fonttools>=4.22.0 in /Users/aishwaryanagaraj/Library/Python/3.9/lib/python/site-packages (from matplotlib->catboost>=1.0.3->upgini) (4.37.4)\n",
      "Requirement already satisfied: pillow>=6.2.0 in /Users/aishwaryanagaraj/Library/Python/3.9/lib/python/site-packages (from matplotlib->catboost>=1.0.3->upgini) (9.2.0)\n",
      "Requirement already satisfied: contourpy>=1.0.1 in /Users/aishwaryanagaraj/Library/Python/3.9/lib/python/site-packages (from matplotlib->catboost>=1.0.3->upgini) (1.0.5)\n",
      "Requirement already satisfied: tenacity>=6.2.0 in /Users/aishwaryanagaraj/Library/Python/3.9/lib/python/site-packages (from plotly->catboost>=1.0.3->upgini) (8.1.0)\n",
      "Note: you may need to restart the kernel to use updated packages.\n"
     ]
    }
   ],
   "source": [
    "# Importing neccasary Libraries \n",
    "import pandas as pd\n",
    "import numpy as np \n",
    "%pip install upgini "
   ]
  },
  {
   "cell_type": "markdown",
   "metadata": {},
   "source": [
    "PREPARE THE DATASET"
   ]
  },
  {
   "cell_type": "code",
   "execution_count": 20,
   "metadata": {},
   "outputs": [],
   "source": [
    "from os.path import exists\n",
    "df_path = \"train.csv.zip\" if exists(\"train.csv.zip\") else \"https://github.com/upgini/upgini/raw/main/notebooks/train.csv.zip\"\n",
    "df = pd.read_csv(df_path)\n",
    "df = df.sample(n=19_000, random_state=0)"
   ]
  },
  {
   "cell_type": "code",
   "execution_count": 21,
   "metadata": {},
   "outputs": [],
   "source": [
    "df[\"store\"] = df[\"store\"].astype(str)\n",
    "df[\"item\"] = df[\"item\"].astype(str)\n",
    "df[\"date\"] = pd.to_datetime(df[\"date\"])\n",
    "\n",
    "df.sort_values(\"date\", inplace=True)\n",
    "df.reset_index(inplace=True, drop=True)\n"
   ]
  },
  {
   "cell_type": "markdown",
   "metadata": {},
   "source": [
    "SPLIT THE DATASET TO TRAIN AND TEST DATASET"
   ]
  },
  {
   "cell_type": "code",
   "execution_count": 22,
   "metadata": {},
   "outputs": [],
   "source": [
    "# Putting data from 2013 till 2016 in the training dataset then 2017 data in the test data set \n",
    "\n",
    "train = df[df['date'] < '2017-1-1']\n",
    "test = df[df['date'] > '2016-12-31']\n",
    "\n",
    "#Splitting test and train dataset into feautures and labels \n",
    "\n",
    "train_features = train.drop(columns = ['sales'], axis = 1)\n",
    "train_target = train['sales']\n",
    "\n",
    "test_features = test.drop(columns = ['sales'], axis = 1)\n",
    "test_target = test['sales']"
   ]
  },
  {
   "cell_type": "markdown",
   "metadata": {},
   "source": [
    "ENRICH THE DATASET USING UPGINI"
   ]
  },
  {
   "cell_type": "code",
   "execution_count": 23,
   "metadata": {},
   "outputs": [
    {
     "name": "stdout",
     "output_type": "stream",
     "text": [
      "WARNING: You have started the search with the DATE key only. Try to add the COUNTRY and/or POSTAL_CODE keys to your dataset so that the search engine gets access to the additional data sources. Get details on https://github.com/upgini/upgini#readme\n",
      "Detected task type: ModelTaskType.REGRESSION\n"
     ]
    },
    {
     "data": {
      "text/html": [
       "<table><tr><th style='font-weight:bold'>Column name</th><th style='font-weight:bold'>Status</th><th style='font-weight:bold'>Description</th></tr><tr><td>date</td><td style='background-color:#DAF7A6;color:black'>All valid</td><td>All values in this column are good to go</td></tr><tr><td>target</td><td style='background-color:#DAF7A6;color:black'>All valid</td><td>All values in this column are good to go</td></tr></table>"
      ],
      "text/plain": [
       "<IPython.core.display.HTML object>"
      ]
     },
     "metadata": {},
     "output_type": "display_data"
    },
    {
     "name": "stdout",
     "output_type": "stream",
     "text": [
      "Running search request with search_id=3a1a2a9f-4cca-4c96-825c-ef3e1657d8c7\n",
      "We'll send email notification once it's completed, just use your personal api_key from profile.upgini.com\n",
      "Done\n",
      "\n",
      "\u001b[92m\u001b[1m\n",
      "28 relevant feature(s) found with the search keys: ['date'].\u001b[0m\n"
     ]
    },
    {
     "data": {
      "text/html": [
       "<div>\n",
       "<style scoped>\n",
       "    .dataframe tbody tr th:only-of-type {\n",
       "        vertical-align: middle;\n",
       "    }\n",
       "\n",
       "    .dataframe tbody tr th {\n",
       "        vertical-align: top;\n",
       "    }\n",
       "\n",
       "    .dataframe thead th {\n",
       "        text-align: right;\n",
       "    }\n",
       "</style>\n",
       "<table border=\"1\" class=\"dataframe\">\n",
       "  <thead>\n",
       "    <tr style=\"text-align: right;\">\n",
       "      <th></th>\n",
       "      <th>feature_name</th>\n",
       "      <th>shap_value</th>\n",
       "      <th>coverage %</th>\n",
       "      <th>type</th>\n",
       "    </tr>\n",
       "  </thead>\n",
       "  <tbody>\n",
       "    <tr>\n",
       "      <th>0</th>\n",
       "      <td>item</td>\n",
       "      <td>0.487726</td>\n",
       "      <td>100.0</td>\n",
       "      <td>CHARACTER</td>\n",
       "    </tr>\n",
       "    <tr>\n",
       "      <th>1</th>\n",
       "      <td>store</td>\n",
       "      <td>0.172106</td>\n",
       "      <td>100.0</td>\n",
       "      <td>CHARACTER</td>\n",
       "    </tr>\n",
       "    <tr>\n",
       "      <th>2</th>\n",
       "      <td>f_weather_pca_0_94efd18d</td>\n",
       "      <td>0.056047</td>\n",
       "      <td>100.0</td>\n",
       "      <td>NUMERIC</td>\n",
       "    </tr>\n",
       "    <tr>\n",
       "      <th>3</th>\n",
       "      <td>f_week_sin1_a71d22f6</td>\n",
       "      <td>0.044632</td>\n",
       "      <td>100.0</td>\n",
       "      <td>NUMERIC</td>\n",
       "    </tr>\n",
       "    <tr>\n",
       "      <th>4</th>\n",
       "      <td>f_week_cos1_d3d56d7f</td>\n",
       "      <td>0.029552</td>\n",
       "      <td>100.0</td>\n",
       "      <td>NUMERIC</td>\n",
       "    </tr>\n",
       "    <tr>\n",
       "      <th>5</th>\n",
       "      <td>f_weather_umap_48_66a91289</td>\n",
       "      <td>0.025132</td>\n",
       "      <td>100.0</td>\n",
       "      <td>NUMERIC</td>\n",
       "    </tr>\n",
       "    <tr>\n",
       "      <th>6</th>\n",
       "      <td>f_weather_umap_24_409427e4</td>\n",
       "      <td>0.019315</td>\n",
       "      <td>100.0</td>\n",
       "      <td>NUMERIC</td>\n",
       "    </tr>\n",
       "    <tr>\n",
       "      <th>7</th>\n",
       "      <td>f_weather_umap_33_b9760f68</td>\n",
       "      <td>0.014638</td>\n",
       "      <td>100.0</td>\n",
       "      <td>NUMERIC</td>\n",
       "    </tr>\n",
       "    <tr>\n",
       "      <th>8</th>\n",
       "      <td>f_year_cos1_cd165f8c</td>\n",
       "      <td>0.012112</td>\n",
       "      <td>100.0</td>\n",
       "      <td>NUMERIC</td>\n",
       "    </tr>\n",
       "    <tr>\n",
       "      <th>9</th>\n",
       "      <td>f_dow_jones_89547e1d</td>\n",
       "      <td>0.007461</td>\n",
       "      <td>100.0</td>\n",
       "      <td>NUMERIC</td>\n",
       "    </tr>\n",
       "    <tr>\n",
       "      <th>10</th>\n",
       "      <td>f_weather_umap_31_50ba2974</td>\n",
       "      <td>0.004600</td>\n",
       "      <td>100.0</td>\n",
       "      <td>NUMERIC</td>\n",
       "    </tr>\n",
       "    <tr>\n",
       "      <th>11</th>\n",
       "      <td>f_silver_d4264cf9</td>\n",
       "      <td>0.004597</td>\n",
       "      <td>100.0</td>\n",
       "      <td>NUMERIC</td>\n",
       "    </tr>\n",
       "    <tr>\n",
       "      <th>12</th>\n",
       "      <td>f_weather_umap_43_4e9820c4</td>\n",
       "      <td>0.004291</td>\n",
       "      <td>100.0</td>\n",
       "      <td>NUMERIC</td>\n",
       "    </tr>\n",
       "    <tr>\n",
       "      <th>13</th>\n",
       "      <td>f_weather_umap_35_436c04a5</td>\n",
       "      <td>0.004104</td>\n",
       "      <td>100.0</td>\n",
       "      <td>NUMERIC</td>\n",
       "    </tr>\n",
       "    <tr>\n",
       "      <th>14</th>\n",
       "      <td>f_finance_umap_3_424d51ca</td>\n",
       "      <td>0.003752</td>\n",
       "      <td>100.0</td>\n",
       "      <td>NUMERIC</td>\n",
       "    </tr>\n",
       "    <tr>\n",
       "      <th>15</th>\n",
       "      <td>f_snp500_61d23988</td>\n",
       "      <td>0.003303</td>\n",
       "      <td>100.0</td>\n",
       "      <td>NUMERIC</td>\n",
       "    </tr>\n",
       "    <tr>\n",
       "      <th>16</th>\n",
       "      <td>f_cpi_pca_5_db7798a3</td>\n",
       "      <td>0.003016</td>\n",
       "      <td>100.0</td>\n",
       "      <td>NUMERIC</td>\n",
       "    </tr>\n",
       "    <tr>\n",
       "      <th>17</th>\n",
       "      <td>f_dow_jones_7d_to_7d_1y_shift_9628c89b</td>\n",
       "      <td>0.002820</td>\n",
       "      <td>100.0</td>\n",
       "      <td>NUMERIC</td>\n",
       "    </tr>\n",
       "    <tr>\n",
       "      <th>18</th>\n",
       "      <td>f_stoxx_4ddb0c38</td>\n",
       "      <td>0.002752</td>\n",
       "      <td>100.0</td>\n",
       "      <td>NUMERIC</td>\n",
       "    </tr>\n",
       "    <tr>\n",
       "      <th>19</th>\n",
       "      <td>f_payment_fraud_score_b6a9c12e</td>\n",
       "      <td>0.002202</td>\n",
       "      <td>100.0</td>\n",
       "      <td>NUMERIC</td>\n",
       "    </tr>\n",
       "    <tr>\n",
       "      <th>20</th>\n",
       "      <td>f_italy_game_cnt_9cfcfe65</td>\n",
       "      <td>0.001993</td>\n",
       "      <td>100.0</td>\n",
       "      <td>NUMERIC</td>\n",
       "    </tr>\n",
       "    <tr>\n",
       "      <th>21</th>\n",
       "      <td>f_nasdaq_d309709a</td>\n",
       "      <td>0.001855</td>\n",
       "      <td>100.0</td>\n",
       "      <td>NUMERIC</td>\n",
       "    </tr>\n",
       "    <tr>\n",
       "      <th>22</th>\n",
       "      <td>f_weather_umap_34_39fc3e94</td>\n",
       "      <td>0.001782</td>\n",
       "      <td>100.0</td>\n",
       "      <td>NUMERIC</td>\n",
       "    </tr>\n",
       "    <tr>\n",
       "      <th>23</th>\n",
       "      <td>f_cbpol_umap_1_34dc2149</td>\n",
       "      <td>0.001578</td>\n",
       "      <td>100.0</td>\n",
       "      <td>NUMERIC</td>\n",
       "    </tr>\n",
       "    <tr>\n",
       "      <th>24</th>\n",
       "      <td>f_cbpol_pca_3_2e94b9bf</td>\n",
       "      <td>0.001536</td>\n",
       "      <td>100.0</td>\n",
       "      <td>NUMERIC</td>\n",
       "    </tr>\n",
       "    <tr>\n",
       "      <th>25</th>\n",
       "      <td>f_silver_7d_to_1y_82c4ef86</td>\n",
       "      <td>0.001454</td>\n",
       "      <td>100.0</td>\n",
       "      <td>NUMERIC</td>\n",
       "    </tr>\n",
       "    <tr>\n",
       "      <th>26</th>\n",
       "      <td>f_cbpol_umap_6_f175da9a</td>\n",
       "      <td>0.001432</td>\n",
       "      <td>100.0</td>\n",
       "      <td>NUMERIC</td>\n",
       "    </tr>\n",
       "    <tr>\n",
       "      <th>27</th>\n",
       "      <td>f_mlending_approve_score_d4c33397</td>\n",
       "      <td>0.001374</td>\n",
       "      <td>100.0</td>\n",
       "      <td>NUMERIC</td>\n",
       "    </tr>\n",
       "    <tr>\n",
       "      <th>28</th>\n",
       "      <td>f_weather_umap_45_b348f420</td>\n",
       "      <td>0.001316</td>\n",
       "      <td>100.0</td>\n",
       "      <td>NUMERIC</td>\n",
       "    </tr>\n",
       "    <tr>\n",
       "      <th>29</th>\n",
       "      <td>f_silver_7d_to_7d_1y_shift_ccbd2abf</td>\n",
       "      <td>0.001241</td>\n",
       "      <td>100.0</td>\n",
       "      <td>NUMERIC</td>\n",
       "    </tr>\n",
       "  </tbody>\n",
       "</table>\n",
       "</div>"
      ],
      "text/plain": [
       "                              feature_name  shap_value  coverage %       type\n",
       "0                                     item    0.487726       100.0  CHARACTER\n",
       "1                                    store    0.172106       100.0  CHARACTER\n",
       "2                 f_weather_pca_0_94efd18d    0.056047       100.0    NUMERIC\n",
       "3                     f_week_sin1_a71d22f6    0.044632       100.0    NUMERIC\n",
       "4                     f_week_cos1_d3d56d7f    0.029552       100.0    NUMERIC\n",
       "5               f_weather_umap_48_66a91289    0.025132       100.0    NUMERIC\n",
       "6               f_weather_umap_24_409427e4    0.019315       100.0    NUMERIC\n",
       "7               f_weather_umap_33_b9760f68    0.014638       100.0    NUMERIC\n",
       "8                     f_year_cos1_cd165f8c    0.012112       100.0    NUMERIC\n",
       "9                     f_dow_jones_89547e1d    0.007461       100.0    NUMERIC\n",
       "10              f_weather_umap_31_50ba2974    0.004600       100.0    NUMERIC\n",
       "11                       f_silver_d4264cf9    0.004597       100.0    NUMERIC\n",
       "12              f_weather_umap_43_4e9820c4    0.004291       100.0    NUMERIC\n",
       "13              f_weather_umap_35_436c04a5    0.004104       100.0    NUMERIC\n",
       "14               f_finance_umap_3_424d51ca    0.003752       100.0    NUMERIC\n",
       "15                       f_snp500_61d23988    0.003303       100.0    NUMERIC\n",
       "16                    f_cpi_pca_5_db7798a3    0.003016       100.0    NUMERIC\n",
       "17  f_dow_jones_7d_to_7d_1y_shift_9628c89b    0.002820       100.0    NUMERIC\n",
       "18                        f_stoxx_4ddb0c38    0.002752       100.0    NUMERIC\n",
       "19          f_payment_fraud_score_b6a9c12e    0.002202       100.0    NUMERIC\n",
       "20               f_italy_game_cnt_9cfcfe65    0.001993       100.0    NUMERIC\n",
       "21                       f_nasdaq_d309709a    0.001855       100.0    NUMERIC\n",
       "22              f_weather_umap_34_39fc3e94    0.001782       100.0    NUMERIC\n",
       "23                 f_cbpol_umap_1_34dc2149    0.001578       100.0    NUMERIC\n",
       "24                  f_cbpol_pca_3_2e94b9bf    0.001536       100.0    NUMERIC\n",
       "25              f_silver_7d_to_1y_82c4ef86    0.001454       100.0    NUMERIC\n",
       "26                 f_cbpol_umap_6_f175da9a    0.001432       100.0    NUMERIC\n",
       "27       f_mlending_approve_score_d4c33397    0.001374       100.0    NUMERIC\n",
       "28              f_weather_umap_45_b348f420    0.001316       100.0    NUMERIC\n",
       "29     f_silver_7d_to_7d_1y_shift_ccbd2abf    0.001241       100.0    NUMERIC"
      ]
     },
     "metadata": {},
     "output_type": "display_data"
    }
   ],
   "source": [
    "from upgini import  FeaturesEnricher, SearchKey \n",
    "from upgini.metadata import CVType\n",
    "\n",
    "enricher = FeaturesEnricher(\n",
    "        search_keys = {\n",
    "        'date' : SearchKey.DATE,\n",
    "        },\n",
    "    cv = CVType.time_series \n",
    ")\n",
    "\n",
    "enricher.fit(train_features,\n",
    "            train_target, \n",
    "            eval_set = [(test_features, test_target)])"
   ]
  },
  {
   "cell_type": "code",
   "execution_count": 24,
   "metadata": {},
   "outputs": [
    {
     "name": "stdout",
     "output_type": "stream",
     "text": [
      "Calculating metrics...\n",
      "\\\r"
     ]
    },
    {
     "name": "stderr",
     "output_type": "stream",
     "text": [
      "/Users/aishwaryanagaraj/Library/Python/3.9/lib/python/site-packages/catboost/core.py:1419: FutureWarning: iteritems is deprecated and will be removed in a future version. Use .items instead.\n",
      "  self._init_pool(data, label, cat_features, text_features, embedding_features, embedding_features_data, pairs, weight,\n"
     ]
    },
    {
     "name": "stdout",
     "output_type": "stream",
     "text": [
      "|\r"
     ]
    },
    {
     "name": "stderr",
     "output_type": "stream",
     "text": [
      "/Users/aishwaryanagaraj/Library/Python/3.9/lib/python/site-packages/catboost/core.py:1419: FutureWarning: iteritems is deprecated and will be removed in a future version. Use .items instead.\n",
      "  self._init_pool(data, label, cat_features, text_features, embedding_features, embedding_features_data, pairs, weight,\n"
     ]
    },
    {
     "name": "stdout",
     "output_type": "stream",
     "text": [
      "-\r"
     ]
    },
    {
     "name": "stderr",
     "output_type": "stream",
     "text": [
      "/Users/aishwaryanagaraj/Library/Python/3.9/lib/python/site-packages/catboost/core.py:1419: FutureWarning: iteritems is deprecated and will be removed in a future version. Use .items instead.\n",
      "  self._init_pool(data, label, cat_features, text_features, embedding_features, embedding_features_data, pairs, weight,\n"
     ]
    },
    {
     "name": "stdout",
     "output_type": "stream",
     "text": [
      "\\\r"
     ]
    },
    {
     "name": "stderr",
     "output_type": "stream",
     "text": [
      "/Users/aishwaryanagaraj/Library/Python/3.9/lib/python/site-packages/catboost/core.py:1419: FutureWarning: iteritems is deprecated and will be removed in a future version. Use .items instead.\n",
      "  self._init_pool(data, label, cat_features, text_features, embedding_features, embedding_features_data, pairs, weight,\n"
     ]
    },
    {
     "name": "stdout",
     "output_type": "stream",
     "text": [
      "/\r"
     ]
    },
    {
     "name": "stderr",
     "output_type": "stream",
     "text": [
      "/Users/aishwaryanagaraj/Library/Python/3.9/lib/python/site-packages/catboost/core.py:1419: FutureWarning: iteritems is deprecated and will be removed in a future version. Use .items instead.\n",
      "  self._init_pool(data, label, cat_features, text_features, embedding_features, embedding_features_data, pairs, weight,\n"
     ]
    },
    {
     "name": "stdout",
     "output_type": "stream",
     "text": [
      "\\\r"
     ]
    },
    {
     "name": "stderr",
     "output_type": "stream",
     "text": [
      "/Users/aishwaryanagaraj/Library/Python/3.9/lib/python/site-packages/catboost/core.py:1419: FutureWarning: iteritems is deprecated and will be removed in a future version. Use .items instead.\n",
      "  self._init_pool(data, label, cat_features, text_features, embedding_features, embedding_features_data, pairs, weight,\n"
     ]
    },
    {
     "name": "stdout",
     "output_type": "stream",
     "text": [
      "-\r"
     ]
    },
    {
     "name": "stderr",
     "output_type": "stream",
     "text": [
      "/Users/aishwaryanagaraj/Library/Python/3.9/lib/python/site-packages/catboost/core.py:1419: FutureWarning: iteritems is deprecated and will be removed in a future version. Use .items instead.\n",
      "  self._init_pool(data, label, cat_features, text_features, embedding_features, embedding_features_data, pairs, weight,\n"
     ]
    },
    {
     "name": "stdout",
     "output_type": "stream",
     "text": [
      "\\\r"
     ]
    },
    {
     "name": "stderr",
     "output_type": "stream",
     "text": [
      "/Users/aishwaryanagaraj/Library/Python/3.9/lib/python/site-packages/catboost/core.py:1419: FutureWarning: iteritems is deprecated and will be removed in a future version. Use .items instead.\n",
      "  self._init_pool(data, label, cat_features, text_features, embedding_features, embedding_features_data, pairs, weight,\n"
     ]
    },
    {
     "name": "stdout",
     "output_type": "stream",
     "text": [
      "-\r"
     ]
    },
    {
     "name": "stderr",
     "output_type": "stream",
     "text": [
      "/Users/aishwaryanagaraj/Library/Python/3.9/lib/python/site-packages/catboost/core.py:1419: FutureWarning: iteritems is deprecated and will be removed in a future version. Use .items instead.\n",
      "  self._init_pool(data, label, cat_features, text_features, embedding_features, embedding_features_data, pairs, weight,\n"
     ]
    },
    {
     "name": "stdout",
     "output_type": "stream",
     "text": [
      "|\r"
     ]
    },
    {
     "name": "stderr",
     "output_type": "stream",
     "text": [
      "/Users/aishwaryanagaraj/Library/Python/3.9/lib/python/site-packages/catboost/core.py:1419: FutureWarning: iteritems is deprecated and will be removed in a future version. Use .items instead.\n",
      "  self._init_pool(data, label, cat_features, text_features, embedding_features, embedding_features_data, pairs, weight,\n"
     ]
    },
    {
     "name": "stdout",
     "output_type": "stream",
     "text": [
      "/\r"
     ]
    },
    {
     "name": "stderr",
     "output_type": "stream",
     "text": [
      "/Users/aishwaryanagaraj/Library/Python/3.9/lib/python/site-packages/catboost/core.py:1419: FutureWarning: iteritems is deprecated and will be removed in a future version. Use .items instead.\n",
      "  self._init_pool(data, label, cat_features, text_features, embedding_features, embedding_features_data, pairs, weight,\n"
     ]
    },
    {
     "name": "stdout",
     "output_type": "stream",
     "text": [
      "-\r"
     ]
    },
    {
     "name": "stderr",
     "output_type": "stream",
     "text": [
      "/Users/aishwaryanagaraj/Library/Python/3.9/lib/python/site-packages/catboost/core.py:1419: FutureWarning: iteritems is deprecated and will be removed in a future version. Use .items instead.\n",
      "  self._init_pool(data, label, cat_features, text_features, embedding_features, embedding_features_data, pairs, weight,\n"
     ]
    },
    {
     "name": "stdout",
     "output_type": "stream",
     "text": [
      "/\r"
     ]
    },
    {
     "name": "stderr",
     "output_type": "stream",
     "text": [
      "/Users/aishwaryanagaraj/Library/Python/3.9/lib/python/site-packages/catboost/core.py:1419: FutureWarning: iteritems is deprecated and will be removed in a future version. Use .items instead.\n",
      "  self._init_pool(data, label, cat_features, text_features, embedding_features, embedding_features_data, pairs, weight,\n",
      "/Users/aishwaryanagaraj/Library/Python/3.9/lib/python/site-packages/catboost/core.py:1419: FutureWarning: iteritems is deprecated and will be removed in a future version. Use .items instead.\n",
      "  self._init_pool(data, label, cat_features, text_features, embedding_features, embedding_features_data, pairs, weight,\n"
     ]
    },
    {
     "name": "stdout",
     "output_type": "stream",
     "text": [
      "Done\n"
     ]
    },
    {
     "data": {
      "text/html": [
       "<div>\n",
       "<style scoped>\n",
       "    .dataframe tbody tr th:only-of-type {\n",
       "        vertical-align: middle;\n",
       "    }\n",
       "\n",
       "    .dataframe tbody tr th {\n",
       "        vertical-align: top;\n",
       "    }\n",
       "\n",
       "    .dataframe thead th {\n",
       "        text-align: right;\n",
       "    }\n",
       "</style>\n",
       "<table border=\"1\" class=\"dataframe\">\n",
       "  <thead>\n",
       "    <tr style=\"text-align: right;\">\n",
       "      <th></th>\n",
       "      <th>match_rate</th>\n",
       "      <th>baseline mean_absolute_percentage_error</th>\n",
       "      <th>enriched mean_absolute_percentage_error</th>\n",
       "      <th>uplift</th>\n",
       "    </tr>\n",
       "    <tr>\n",
       "      <th></th>\n",
       "      <th></th>\n",
       "      <th></th>\n",
       "      <th></th>\n",
       "      <th></th>\n",
       "    </tr>\n",
       "  </thead>\n",
       "  <tbody>\n",
       "    <tr>\n",
       "      <th>train</th>\n",
       "      <td>100.0</td>\n",
       "      <td>0.255844</td>\n",
       "      <td>0.16662</td>\n",
       "      <td>0.089224</td>\n",
       "    </tr>\n",
       "    <tr>\n",
       "      <th>eval 1</th>\n",
       "      <td>100.0</td>\n",
       "      <td>0.243877</td>\n",
       "      <td>0.13113</td>\n",
       "      <td>0.112746</td>\n",
       "    </tr>\n",
       "  </tbody>\n",
       "</table>\n",
       "</div>"
      ],
      "text/plain": [
       "        match_rate  baseline mean_absolute_percentage_error  \\\n",
       "                                                              \n",
       "train        100.0                                 0.255844   \n",
       "eval 1       100.0                                 0.243877   \n",
       "\n",
       "        enriched mean_absolute_percentage_error    uplift  \n",
       "                                                           \n",
       "train                                   0.16662  0.089224  \n",
       "eval 1                                  0.13113  0.112746  "
      ]
     },
     "execution_count": 24,
     "metadata": {},
     "output_type": "execute_result"
    }
   ],
   "source": [
    "from catboost import CatBoostRegressor\n",
    "from catboost.utils import eval_metric\n",
    "\n",
    "model = CatBoostRegressor(verbose = False, allow_writing_files = False, random_state = 0)\n",
    "\n",
    "enricher.calculate_metrics(\n",
    "    train_features, train_target, \n",
    "    eval_set = [( test_features, test_target)],\n",
    "    estimator = model,\n",
    "    scoring = 'mean_absolute_percentage_error'\n",
    ")"
   ]
  },
  {
   "cell_type": "code",
   "execution_count": 25,
   "metadata": {},
   "outputs": [
    {
     "name": "stdout",
     "output_type": "stream",
     "text": [
      "WARNING: You have started the search with the DATE key only. Try to add the COUNTRY and/or POSTAL_CODE keys to your dataset so that the search engine gets access to the additional data sources. Get details on https://github.com/upgini/upgini#readme\n",
      "90.39637% of the rows are fully duplicated\n"
     ]
    },
    {
     "data": {
      "text/html": [
       "<table><tr><th style='font-weight:bold'>Column name</th><th style='font-weight:bold'>Status</th><th style='font-weight:bold'>Description</th></tr><tr><td>date</td><td style='background-color:#DAF7A6;color:black'>All valid</td><td>All values in this column are good to go</td></tr></table>"
      ],
      "text/plain": [
       "<IPython.core.display.HTML object>"
      ]
     },
     "metadata": {},
     "output_type": "display_data"
    },
    {
     "name": "stdout",
     "output_type": "stream",
     "text": [
      "Running search request with search_id=567def35-0448-45a9-9fe5-782a4fe167d2\n",
      "We'll send email notification once it's completed, just use your personal api_key from profile.upgini.com\n",
      "Done\n",
      "\n",
      "Collecting selected features...\n",
      "Done\n",
      "WARNING: You have started the search with the DATE key only. Try to add the COUNTRY and/or POSTAL_CODE keys to your dataset so that the search engine gets access to the additional data sources. Get details on https://github.com/upgini/upgini#readme\n",
      "90.36176% of the rows are fully duplicated\n"
     ]
    },
    {
     "data": {
      "text/html": [
       "<table><tr><th style='font-weight:bold'>Column name</th><th style='font-weight:bold'>Status</th><th style='font-weight:bold'>Description</th></tr><tr><td>date</td><td style='background-color:#DAF7A6;color:black'>All valid</td><td>All values in this column are good to go</td></tr></table>"
      ],
      "text/plain": [
       "<IPython.core.display.HTML object>"
      ]
     },
     "metadata": {},
     "output_type": "display_data"
    },
    {
     "name": "stdout",
     "output_type": "stream",
     "text": [
      "Running search request with search_id=9f688e24-093a-4aad-9ea4-db2320214922\n",
      "We'll send email notification once it's completed, just use your personal api_key from profile.upgini.com\n",
      "Done\n",
      "\n",
      "Collecting selected features...\n",
      "Done\n"
     ]
    }
   ],
   "source": [
    "# Adding the enriched Dataset to the normal Dataset \n",
    "\n",
    "enriched_train_features = enricher.transform(train_features, keep_input = True)\n",
    "enriched_test_features = enricher.transform(test_features, keep_input = True)"
   ]
  },
  {
   "cell_type": "code",
   "execution_count": 26,
   "metadata": {},
   "outputs": [
    {
     "name": "stderr",
     "output_type": "stream",
     "text": [
      "/Users/aishwaryanagaraj/Library/Python/3.9/lib/python/site-packages/catboost/core.py:1419: FutureWarning: iteritems is deprecated and will be removed in a future version. Use .items instead.\n",
      "  self._init_pool(data, label, cat_features, text_features, embedding_features, embedding_features_data, pairs, weight,\n"
     ]
    },
    {
     "data": {
      "text/plain": [
       "[37.65141857448004]"
      ]
     },
     "execution_count": 26,
     "metadata": {},
     "output_type": "execute_result"
    }
   ],
   "source": [
    "# Training models on the normal dataset to find its accuracy using the SMAPE metric\n",
    "# Symmetric mean absolute percentage error ( SMAPE )\n",
    "\n",
    "model.fit(train_features, train_target)\n",
    "preds = model.predict(test_features)\n",
    "eval_metric(test_target.values, preds, 'SMAPE')"
   ]
  },
  {
   "cell_type": "code",
   "execution_count": 27,
   "metadata": {},
   "outputs": [
    {
     "data": {
      "text/plain": [
       "[14.504497540797917]"
      ]
     },
     "execution_count": 27,
     "metadata": {},
     "output_type": "execute_result"
    }
   ],
   "source": [
    "# Training our enriched Data into the model to find its accuracy using the SMAPE metric  \n",
    "model.fit(enriched_train_features,train_target)\n",
    "enriched_preds = model.predict(enriched_test_features)\n",
    "\n",
    "eval_metric(test_target.values, enriched_preds, 'SMAPE')"
   ]
  },
  {
   "cell_type": "markdown",
   "metadata": {},
   "source": [
    "A significant Decrese in the error metric from 37.6% to 14.7% "
   ]
  }
 ],
 "metadata": {
  "kernelspec": {
   "display_name": "Python 3.9.6 64-bit",
   "language": "python",
   "name": "python3"
  },
  "language_info": {
   "codemirror_mode": {
    "name": "ipython",
    "version": 3
   },
   "file_extension": ".py",
   "mimetype": "text/x-python",
   "name": "python",
   "nbconvert_exporter": "python",
   "pygments_lexer": "ipython3",
   "version": "3.9.6"
  },
  "orig_nbformat": 4,
  "vscode": {
   "interpreter": {
    "hash": "31f2aee4e71d21fbe5cf8b01ff0e069b9275f58929596ceb00d14d90e3e16cd6"
   }
  }
 },
 "nbformat": 4,
 "nbformat_minor": 2
}
